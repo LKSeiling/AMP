{
 "cells": [
  {
   "cell_type": "markdown",
   "metadata": {},
   "source": [
    "# AMP - Abrechnungs- und MailProgramm\n",
    "\n",
    "\n",
    "Hallo,\n",
    "\n",
    "bevor wir mit der Abrechnung beginnen können, verschaffen wir uns einen Überblick über die diesem Programm zugrundeliegende Datenstruktur\n",
    "\n",
    "```bash\n",
    "├── Year\n",
    "│   ├── Transfer\n",
    "│   ├── Solawista\n",
    "│   │   ├── Transfer\n",
    "```\n",
    "\n",
    "Das heißt jedes Jahr (Year) hat mehrere Transfers (Überweisungen) und Solawistas. Die Hauptaufgabe dieses Programms ist es, entsprechende Überweisungen den einzelnen Solawistas zuzuordnen.\n",
    "\n",
    "Wenn du weiterliest, wird dich das Programm durch diesen Zuordnungsprozess leiten. Du kannst ihn einmal im Jahr oder monatlich durchführen und immer neue Daten (Überweisungen und Solawistas) hinzufügen. \n",
    "\n",
    "Falls du genau sehen willst, welche Attribute und Funktionen *Year*, *Solawista* und *Transfer* haben, kannst du die [classes.py-Datei im src-Ordner](http://localhost:8888/edit/src/classes.py) öffnen."
   ]
  },
  {
   "cell_type": "markdown",
   "metadata": {},
   "source": [
    "Zuerst müssen wir uns entscheiden, welches Jahr wir gerade bearbeiten wollen.\n",
    "\n",
    "## 1. Jahr festlegen & Dateien prüfen\n",
    "\n",
    "Dazu musst erst ein Jahr ausgewählt werden."
   ]
  },
  {
   "cell_type": "code",
   "execution_count": null,
   "metadata": {},
   "outputs": [],
   "source": [
    "from src.utils import ask_for_input\n",
    "\n",
    "#curr_year = ask_for_input(\"year\")"
   ]
  },
  {
   "cell_type": "markdown",
   "metadata": {},
   "source": [
    "Alternativ kannst du die Auswahl auch mit der nächsten Codezeile abkürzen, indem du direkt das gewünschte Jahr einträgst."
   ]
  },
  {
   "cell_type": "code",
   "execution_count": null,
   "metadata": {},
   "outputs": [],
   "source": [
    "curr_year=2022"
   ]
  },
  {
   "cell_type": "markdown",
   "metadata": {},
   "source": [
    "Jetzt wird geprüft, ob für dieses Jahr bereits Daten gespeichert wurden und sie der angenommenen Dateistrukutur entsprechen. Die Funktion ```check_for_year``` überprüft das für uns. In der [dir_check.py-Datei im src-Ordner](http://localhost:8888/edit/src/dir_check.py) kannst du nachvollziehen, wie das genau passiert.\n",
    "\n",
    "- Falls ja, können wir fortfahren.\n",
    "- Falls nein, wird die entsprechende Dateistrukutur angelegt, inklusive Tabellen, in die die Informationen eingetragen werden können. **Bitte fahre erst fort, wenn alle nötigen Informationen eingetragen sind** und das Ausführen der nächsten Zelle keine Warnungen mehr ausgibt."
   ]
  },
  {
   "cell_type": "code",
   "execution_count": null,
   "metadata": {
    "scrolled": true
   },
   "outputs": [],
   "source": [
    "from src.dir_check import check_for_year\n",
    "\n",
    "check_for_year(curr_year)"
   ]
  },
  {
   "cell_type": "markdown",
   "metadata": {},
   "source": [
    "Wenn die vorausgenagene Zelle keine Warnungen mehr ausgibt, können wir endlich alle Daten einlesen.\n",
    "\n",
    "## 2. Daten einlesen\n",
    "Wir prüfen erst, *ob bereits Daten aus einer vorherigen Sitzung bestehen*. \n",
    "\n",
    "- *Falls ja*, werden diese direkt geladen und es wird geprüft, ob neue Daten aus den Überweisungen dazu gekommen sind. Zusätzlich wird geprüft, ob sich die Daten der Solawistas geändert haben.\n",
    "- *Falls nicht*, laden wir alle Daten aus der der Mitgliederliste und den Überweisungen.\n",
    "\n",
    "All das tun wir mithilfe der ```import_data```-Funktion, der wir das aktuelle Jahr und die Anzahl der Ernteanteile übergeben mussen. Zusätzlich können wir mithilfe der Argumente year_start und year_end, den Zeitrahmen eingrenzen. Detailliertere Informationen findest du in der [data_extr.py-Datei im src-Ordner](http://localhost:8888/edit/src/data_extr.py)."
   ]
  },
  {
   "cell_type": "code",
   "execution_count": null,
   "metadata": {},
   "outputs": [],
   "source": [
    "from src.data_extr import import_data\n",
    "\n",
    "erntejahr_2021 = import_data(curr_year, total_ants=120, year_start=3)"
   ]
  },
  {
   "cell_type": "markdown",
   "metadata": {},
   "source": [
    "Mit der ```num_unsorted()```-Methode des Jahres-Objekts erhalten wir die Anzahl der nicht-zugeordneten Überweisungen:"
   ]
  },
  {
   "cell_type": "code",
   "execution_count": null,
   "metadata": {},
   "outputs": [],
   "source": [
    "erntejahr_2021.num_unsorted()"
   ]
  },
  {
   "cell_type": "markdown",
   "metadata": {},
   "source": [
    "## 3. Transaktionen zuordnen\n",
    "\n",
    "Jetzt haben wir alle Informationen geladen. Nun müssen wir so viele Überweisungen wie möglich, den richtigen Solawistas zuordnen. Einen Teil erkennt das Skript automatisch. Über den Rest müssen wir händisch entscheiden.\n",
    "\n",
    "Dafür einfach, die nächste Zelle ausführen. \n",
    "\n",
    "```Auswahlalgorithmus beschreiben```\n",
    "\n",
    "\n",
    "**ACHTUNG!**\n",
    "Es kann sein, dass das System sich unsicher ist, ob eine Überweisung dem Ernteanteil, der Einlage oder keinem der beiden Posten zuzurechnen ist. In diesem Fall wird es die Überweisung sowie die aktuelle Finanzübersicht der betroffenen Solawista anzeigen und um eine manuelle Zuordnung bitten: \n",
    "- Gebe **\"A\"** ein, um die Überweisung dem Ernte**Anteil** zuzuordenen.\n",
    "- Gebe **\"E\"** ein, um die Überweisung der **Einlage** zuzuordenen.\n",
    "- Gebe **\"S\"** ein, um die Überweisung unter **Sonstige** zu verbuchen.\n",
    "- Gebe **Enter** ein, falls die Überweisung **falsch zugeordnet** wurde."
   ]
  },
  {
   "cell_type": "code",
   "execution_count": null,
   "metadata": {},
   "outputs": [],
   "source": [
    "from src.data_assign import auto_assign, manual_assign\n",
    "erntejahr_2021 = auto_assign(erntejahr_2021)"
   ]
  },
  {
   "cell_type": "markdown",
   "metadata": {},
   "source": [
    "Nun können wir prüfen, wie viele der Überweisungen *nicht* semi-automatisch zu Ernteanteilen zugeordnet werden konnten."
   ]
  },
  {
   "cell_type": "markdown",
   "metadata": {},
   "source": [
    "Diese restlichen Überweisungen müssen wir manuell zuordnen. \n",
    "Um die zu tun, gibt es verschiedene Möglichkeiten:\n",
    "\n",
    "<h4>SOLAWISTA ZUORDNEN</h4>\n",
    "<ul>\n",
    "<li>Um die <b>Überweisung einer Solawista zuzuordnden</b>, trage bitte, wenn aufgefordert, die <b>ID der Solawista</b> ein, der die Überweisung zugeordnet werden soll. Danach wirst du gebeten, wie im vorherigen Schritt einen <b>Posten</b> zuzuordnen.</li>\n",
    "<li>Falls die Überweisung <b>auf mehrere Ernteanteile aufgeteilt</b> werden soll, trage bitte <b>\"T\"</b> ein.</li>\n",
    "</ul>\n",
    "\n",
    "\n",
    "<h4>WARTELISTE /DARLEHEN</h4>\n",
    "<ul>\n",
    "<li>Falls die Überweisung zur <b>Warteliste</b> hinzugefügt werden soll, trage bitte <b>\"W\"</b> ein.</li> \n",
    "<li>Falls die Überweisung ein <b>Darlehen</b> ist, trage bitte <b>\"D\"</b> ein.</li> \n",
    "<li>Falls die Überweisung eine <b>Spende</b> ist, trage bitte <b>\"S\"</b> ein.</li>\n",
    "</ul>\n",
    "\n",
    "<h4>AUSGABEN</h4>\n",
    "<ul>\n",
    "<li>Falls die Überweisung generellen <b>Ausgaben</b> hinzugefügt werden soll, trage bitte <b>\"A\"</b> ein.</li> \n",
    "<li> Falls es sich bei der Überweisung um <b>Gehaltszahlungen</b> handelt, trage bitte <b>\"G\"</b> ein.</li> \n",
    "</ul>\n",
    "\n",
    "<h4>KEINS DAVON</h4>\n",
    "<ul>\n",
    "<li>Falls <b>keine der oberen Optionen</b> gilt, kannst du direkt <b>Enter</b> drücken.</li>\n",
    "<li>Um die <b>Zuweisung abzubrechen</b>, kannst du <b>\"X\"</b> drücken.</li>\n",
    "</ul>\n",
    "\n",
    "\n",
    "Um bei der Entscheidung zu helfen, gibt der nächste Befehl eine Übersicht über alle Solawistas und ihre bisherigen Zahlungen aus. Dazu nutzen wir eine Funktion aus der <a target=\"__blank\" href=\"http://localhost:8888/edit/src/data_vis.py\">data_vis.py-Datei im src-Ordner</a>. Die dort enthaltenen Funktionen werden vor allem in <a href=\"#data-vis\">Abschnitt 4</a> weiter genutzt.\n"
   ]
  },
  {
   "cell_type": "code",
   "execution_count": null,
   "metadata": {
    "scrolled": false
   },
   "outputs": [],
   "source": [
    "from src.data_vis import payment_overview\n",
    "\n",
    "payment_overview(erntejahr_2021)"
   ]
  },
  {
   "cell_type": "code",
   "execution_count": null,
   "metadata": {},
   "outputs": [],
   "source": [
    "from src.data_assign import manual_assign\n",
    "erntejahr_2021 = manual_assign(erntejahr_2021)"
   ]
  },
  {
   "cell_type": "markdown",
   "metadata": {},
   "source": [
    "### Optional: Verteiler hinzufügen\n",
    "später hinzufügen"
   ]
  },
  {
   "cell_type": "code",
   "execution_count": null,
   "metadata": {
    "scrolled": true
   },
   "outputs": [],
   "source": [
    "from src.utils import standardise_str\n",
    "for idx, t in erntejahr_2021.all_transfers.items():\n",
    "    if t.sorted == \"\" and ('basislast' in standardise_str(t.vzweck)):\n",
    "        print(t)"
   ]
  },
  {
   "cell_type": "code",
   "execution_count": null,
   "metadata": {},
   "outputs": [],
   "source": [
    "from src.utils import save_year\n",
    "save_year(erntejahr_2021)"
   ]
  },
  {
   "cell_type": "markdown",
   "metadata": {},
   "source": [
    "<h2> <a id=\"data-vis\">4. Übersichten generieren</a> </h2>\n",
    "\n",
    "Da wir nun genau wissen, welche Solawistas, wann wie viel überwiesen haben, können wir unterschiedliche Dinge ausgeben:\n",
    "\n",
    "1) Die Vorhersage für die Einnahmen im gewählten Erntejahr"
   ]
  },
  {
   "cell_type": "code",
   "execution_count": null,
   "metadata": {},
   "outputs": [],
   "source": [
    "from src.data_vis import create_year_overview\n",
    "from src.utils import read_year\n",
    "erntejahr_2021 = read_year(2021)"
   ]
  },
  {
   "cell_type": "code",
   "execution_count": null,
   "metadata": {},
   "outputs": [],
   "source": [
    "erntejahr_2021.darlehen[948] = erntejahr_2021.all_transfers[948]"
   ]
  },
  {
   "cell_type": "code",
   "execution_count": null,
   "metadata": {},
   "outputs": [],
   "source": [
    "erntejahr_2021.all_transfers[58]"
   ]
  },
  {
   "cell_type": "code",
   "execution_count": null,
   "metadata": {},
   "outputs": [],
   "source": [
    "erntejahr_2021.solawistas[65]"
   ]
  },
  {
   "cell_type": "markdown",
   "metadata": {},
   "source": [
    "2) Den aktuellen Zwischenstand"
   ]
  },
  {
   "cell_type": "code",
   "execution_count": null,
   "metadata": {},
   "outputs": [],
   "source": [
    "create_transfer_overview(erntejahr_2021.solawistas[65]).to_string()"
   ]
  },
  {
   "cell_type": "code",
   "execution_count": null,
   "metadata": {},
   "outputs": [],
   "source": [
    "#from src.utils import read_year\n",
    "\n",
    "#erntejahr_2021 = read_year(2021)"
   ]
  },
  {
   "cell_type": "markdown",
   "metadata": {},
   "source": [
    "3) Die Jahresabrechnung"
   ]
  },
  {
   "cell_type": "code",
   "execution_count": null,
   "metadata": {},
   "outputs": [],
   "source": [
    "create_year_overview(erntejahr_2021)"
   ]
  },
  {
   "cell_type": "code",
   "execution_count": null,
   "metadata": {},
   "outputs": [],
   "source": [
    "erntejahr_2021.solawistas[104].transfers"
   ]
  },
  {
   "cell_type": "code",
   "execution_count": null,
   "metadata": {},
   "outputs": [],
   "source": [
    "erntejahr_2021.solawistas[32].add_transfer(erntejahr_2021.all_transfers[915])"
   ]
  },
  {
   "cell_type": "code",
   "execution_count": null,
   "metadata": {},
   "outputs": [],
   "source": [
    "erntejahr_2021.all_transfers[182].sorted = \"\""
   ]
  },
  {
   "cell_type": "code",
   "execution_count": null,
   "metadata": {},
   "outputs": [],
   "source": [
    "erntejahr_2021.solawistas[56].transfers = [t for t in erntejahr_2021.solawistas[56].transfers if t.id != 182]"
   ]
  },
  {
   "cell_type": "code",
   "execution_count": null,
   "metadata": {},
   "outputs": [],
   "source": [
    "erntejahr_2021.solawistas[56]"
   ]
  },
  {
   "cell_type": "code",
   "execution_count": null,
   "metadata": {},
   "outputs": [],
   "source": [
    "df = create_year_overview(erntejahr_2021)"
   ]
  },
  {
   "cell_type": "code",
   "execution_count": null,
   "metadata": {
    "scrolled": true
   },
   "outputs": [],
   "source": [
    "df_backpay = mail_df[mail_df['betrag_einlage'] != 0]"
   ]
  },
  {
   "cell_type": "code",
   "execution_count": null,
   "metadata": {},
   "outputs": [],
   "source": [
    "df_backpay = df_backpay[df_backpay['status']!='verlängert']"
   ]
  },
  {
   "cell_type": "code",
   "execution_count": null,
   "metadata": {},
   "outputs": [],
   "source": [
    "df_backpay.to_csv(\"einlage_rueck.csv\")"
   ]
  },
  {
   "cell_type": "code",
   "execution_count": null,
   "metadata": {},
   "outputs": [],
   "source": [
    "df_special.to_csv(\"ueberweisungen.csv\")"
   ]
  },
  {
   "cell_type": "code",
   "execution_count": null,
   "metadata": {
    "scrolled": true
   },
   "outputs": [],
   "source": [
    "import pandas as pd\n",
    "df2 = pd.read_csv(\"mitglieder_all2.csv\")\n",
    "df3 = df2.iloc[:,0:23]"
   ]
  },
  {
   "cell_type": "code",
   "execution_count": null,
   "metadata": {
    "scrolled": false
   },
   "outputs": [],
   "source": [
    "df3.head()"
   ]
  },
  {
   "cell_type": "code",
   "execution_count": null,
   "metadata": {},
   "outputs": [],
   "source": [
    "mail_df = df3.merge(df[['num','betrag_anteile','betrag_erwartet','diff','betrag_einlage','zahlungen_gesamt']])"
   ]
  },
  {
   "cell_type": "code",
   "execution_count": null,
   "metadata": {},
   "outputs": [],
   "source": [
    "mail_df"
   ]
  },
  {
   "cell_type": "code",
   "execution_count": null,
   "metadata": {},
   "outputs": [],
   "source": [
    "import smtplib\n",
    "from decouple import config\n",
    "from email.message import EmailMessage\n",
    "\n",
    "HOST = config('MAIL_HOST')\n",
    "MAIL_ADDRESS = config('MAIL_ADDRESS')\n",
    "MAIL_USERNAME = config('MAIL_USER')\n",
    "MAIL_PASSWORD = config('MAIL_PASSWORD')"
   ]
  },
  {
   "cell_type": "code",
   "execution_count": null,
   "metadata": {},
   "outputs": [],
   "source": [
    "def create_transfer_overview(solawista):\n",
    "    res_dict = {}\n",
    "    cols = ['Datum','Empfänger/Sender','Verwendungszweck','Betrag','Posten']\n",
    "    for transfer in solawista.transfers:\n",
    "                content_list = [transfer.day, transfer.for_from, transfer.vzweck, transfer.value, transfer.count_towards]\n",
    "                res_dict[transfer.id] = content_list\n",
    "    return pd.DataFrame.from_dict(res_dict, orient='index',columns=cols)"
   ]
  },
  {
   "cell_type": "code",
   "execution_count": null,
   "metadata": {},
   "outputs": [],
   "source": [
    "def create_message2(df_row):\n",
    "    msg = EmailMessage()\n",
    "    msg['From'] = MAIL_ADDRESS\n",
    "    msg['To'] = df_row['mail']\n",
    "    \n",
    "    num = df_row['num']\n",
    "    if num < 10:\n",
    "        num = \"\".join([\"00\",str(num)])\n",
    "    elif num < 100:\n",
    "        num = \"\".join([\"0\",str(num)])\n",
    "    else:\n",
    "        num = str(num)\n",
    "    \n",
    "    text_base = \"\"\"Hallo {},\n",
    "\n",
    "in der Hoffnung, dass ich noch nicht zu spät dran bin: frohes Nues Jahr!\n",
    "\n",
    "Besser spät als nie ist die Jahresabrechnung fertig. Ich habe versucht alle Überweisungen, die im letzten Jahr über das Konto der Solawi geflossen sind, zu individuellen Accounts zuzuordnen, damit klar ist, auf welche Daten sich die individuelle Jahresabrechnung stützt.\n",
    "\n",
    "Pünktlich bevor ich mich arbeits-/unibedingt eh wieder mit anderen Dingen beschäftigen muss, hier aber erstmal Deine Abrechnung des vergangenen (Ernte-)Jahres [März-Dezember 2021]. Alle Überweisungen, auf die ich mich beziehe, habe ich Dir am Ende der Email angehängt.\n",
    "\n",
    "(kurzer Disclaimer: die folgenden Aufstellungen enthalten nur die Überweisungen für Ernteanteile oder Einlagen. Privatdarlehen, Spenden, Fahrtgeld, etc habe ich anderweitig erfasst.)\n",
    "\"\"\".format(df_row['name'])\n",
    "    \n",
    "    running_text = \"\"\n",
    "    running_text = \"\".join([running_text,text_base])\n",
    "    \n",
    "    if df_row['status'] == 'verlängert':\n",
    "        text = \"\\nErstmal cool, dass Du weiter dabei bleibst!\\nUm den Zahlungstatus für Janaur 2022 kümmere ich mich, sobald alle offenen Posten im Jahr 2021 geklärt sind.\\n\\nHier aber erstmal deine Finanzübersicht für 2021:\\n\"\n",
    "        running_text = \"\".join([running_text,text])\n",
    "         \n",
    "    if df_row['status'] == 'gekündigt':\n",
    "        text = \"\\nAuch, wenn Du 2022 nicht mehr teil der Solawi bist, schick ich Dir trotzdem die Finanzüberischt!\\n\"\n",
    "        running_text = \"\".join([running_text,text])\n",
    "        \n",
    "    if df_row['status'] == 'unbekannt':\n",
    "        text = \"\\nLeider habe ich keine Informationen darüber, ob Du 2022 weiter teil der Solawi bist. Ich schicke Dir trotzdem die Finanzüberischt, würde mich aber auf jeden Fall über Rückmeldung freuen, wie es bei Dir weitergeht!\\nNaja, hier kommt die Finanzübersicht:\"\n",
    "        running_text = \"\".join([running_text,text])\n",
    "        \n",
    "    if df_row['diff'] == 0:\n",
    "        text = \"\\nAllerdings gibt es für mich bzgl. 2021 gar nicht viel zu sagen: Du hast alle Beiträge gezahlt.\\nDanke dafür!\"\n",
    "        running_text = \"\".join([running_text,text])\n",
    "        \n",
    "        if (df_row['status'] == 'gekündigt' or df_row['status'] == 'unbekannt') and df_row['betrag_einlage'] > 0:\n",
    "            text2 = \" Du bekommst aber noch Deine Einlage in Höhe von {einlage} € zurück. \".format(einlage=df_row['betrag_einlage'])\n",
    "            if pd.isna(row['iban']):\n",
    "                text3 = \" Allerdings habe ich von Dir noch keine IBAN, die ich Lene für die Rücküberweisung schicken kann. Wenn du mir die noch zukommen lassen könntest, wäre das super!\"\n",
    "            else:\n",
    "                text3 = \" Ich würde die Rücküberweisung in den kommenden Tagen an die IBAN {iban} einleiten. Bitte gib bescheid, sollte damit etwas nicht stimmen.\".format(iban=df_row['iban'])\n",
    "            running_text = \"\".join([running_text,text2,text3])\n",
    "        elif df_row['status'] == 'verlängert':\n",
    "            if df_row['betrag_einlage'] > 0:\n",
    "                text2 = \" Ich habe von Dir im letzten Jahr außerdem {einlage} € Einlage verbucht. Ich transferiere sie einfach ins nächste Jahr.\".format(einlage=df_row['betrag_einlage'])\n",
    "                running_text = \"\".join([running_text,text2])\n",
    "    \n",
    "    elif df_row['diff'] != 0:\n",
    "        quant = \"mehr\" if df_row['diff'] > 0 else \"weniger\"\n",
    "        text1 = \"\"\"\n",
    "Mir ist aufgefallen, dass Du in diesem Jahr {quant} Beiträge gezahlt hast als erwartet:\n",
    "\n",
    "Von erwarteten {max_estimate} € ({monthly}*10) habe ich {sum_value} € von Dir verbucht.\n",
    "Das macht eine Differenz von {diff} €.\n",
    "\n",
    "\"\"\".format(quant=quant, max_estimate=df_row['betrag_erwartet'],monthly=df_row['betrag_erwartet']/10,sum_value=df_row['betrag_anteile'],diff=df_row['diff'])\n",
    "            \n",
    "        if quant == \"weniger\":\n",
    "            if df_row['betrag_einlage']+df_row['diff'] >= 0:\n",
    "                text2 = \"Du hast aber auch Einlagen in Höhe von {einlage} € gezahlt. Das lässt sich gegeneinander aufrechnen, sodass du am Ende {diff2} € zurück bekommen würdest.\".format(einlage=df_row['betrag_einlage'],diff2=df_row['betrag_einlage']+df_row['diff'])\n",
    "                if pd.isna(row['iban']):\n",
    "                    text3 = \" Allerdings habe ich von dir noch keine IBAN, die ich Lene für die Rücküberweisung schicken kann. Wenn du mir die noch zukommen lassen könntest, wäre das super!\"\n",
    "                else:\n",
    "                    text3 = \" Ich würde die Rücküberweisung in den kommenden Tagen an die IBAN {iban} einleiten. Bitte gib bescheid, sollte damit etwas nicht stimmen.\".format(iban=df_row['iban'])\n",
    "                running_text = \"\".join([running_text,text1,text2,text3])\n",
    "            \n",
    "            elif df_row['betrag_einlage']+df_row['diff'] < 0:\n",
    "                text2 = \"\"\n",
    "                if df_row['betrag_einlage'] != 0:\n",
    "                    text2 = \"Auch wenn ich deine Einlagen in Höhe von {einlage} € verrechne erhalte ich eine Differenz von {diff2} €.\\n\".format(einlage=df_row['betrag_einlage'],diff2=df_row['betrag_einlage']+df_row['diff'])\n",
    "                text3 = \"\"\"Ich würde Dich bitten, nochmal zu prüfen, ob ich nicht vielleicht doch eine Überweisung übersehen habe. Fall nicht, bitte überweise den restlichen Betrag bis zum 24.01.20220 an Matthias.\n",
    "\n",
    "Seine Kontoverbindung lautet:\n",
    "Kontoinhaber: Mathias Peeters\n",
    "Bank: GLS Bank\n",
    "IBAN: DE68 4306 0967 4022 6282 00\n",
    "\n",
    "Nutze dabei gern wieder den üblichen Betreff {}.\n",
    "\"\"\".format(\"\".join([\"SOLAWI/\"+num+\"/\"+df_row['nachname'].upper()])) \n",
    "                running_text = \"\".join([running_text,text1,text2,text3])\n",
    "            \n",
    "        elif quant == \"mehr\":\n",
    "            \n",
    "            if (df_row['status'] == 'gekündigt' or df_row['status'] == 'unbekannt'):\n",
    "                text2 = \"\"\n",
    "                if df_row['betrag_einlage'] > 0: \n",
    "                    text2 = \"Zusätzlich bekommst Du noch Deine Einlage in Höhe von {einlage} € zurück. Das macht ingesamt {sum_betr} €, die Du zurück bekommst.\".format(einlage=df_row['betrag_einlage'],sum_betr=df_row['betrag_einlage']+df_row['diff'])\n",
    "                \n",
    "                if pd.isna(row['iban']):\n",
    "                    text3 = \" Allerdings habe ich von dir noch keine IBAN, die ich Lene für die Rücküberweisung schicken kann. Wenn Du mir die noch zukommen lassen könntest, wäre das super!\"\n",
    "                else:\n",
    "                    text3 = \" Ich würde die Rücküberweisung in den kommenden Tagen an die IBAN {iban} einleiten. Bitte gib bescheid, sollte damit etwas nicht stimmen.\".format(iban=df_row['iban'])\n",
    "                running_text = \"\".join([running_text,text1,text2,text3])\n",
    "                \n",
    "            else:\n",
    "                text2 = \"\"\n",
    "                if df_row['betrag_einlage'] > 0:\n",
    "                    text2 = \"Ich habe von Dir im letzten Jahr außerdem {einlage} € Einlage verbucht. Ich transferiere sie einfach ins nächste Jahr.\\n\".format(einlage=df_row['betrag_einlage'])\n",
    "                text3 = \"\\nWie sollen wir mit dem Überschuss umgehen? Willst du ihn ins nächste Jahr mitnehmen und weniger Beiträge zahlen, ihn spenden oder ihn lieber direkt ausgezahlt bekommen? Let me know!\\n\"\n",
    "                if pd.isna(row['iban']):\n",
    "                    text4 = \" Allerdings habe ich von dir noch keine IBAN, die ich Lene für die Rücküberweisung schicken kann. Wenn Du mir die noch zukommen lassen könntest, wäre das super!\"\n",
    "                else:\n",
    "                    text4 = \" Alle Rücküberweisung würde ich - abhängig von deiner Rückmeldung - in den kommenden Tagen an die IBAN {iban} einleiten. Bitte gib bescheid, sollte damit etwas nicht stimmen.\".format(iban=df_row['iban'])\n",
    "                running_text = \"\".join([running_text,text1,text2,text3,text4])\n",
    "            \n",
    "    text_end = \"\"\"\n",
    "\n",
    "Das war's auch schon wieder von mir.\n",
    "Ich hoffe, dass alles halbwegs übersichtlich ist. Falls sich doch ein paar Fragen aufgetan haben, wirf gern nochmal einen Blick in die Überweisungsliste unter dieser Mail.\n",
    "\n",
    "Beste Grüße\n",
    "Lukas\n",
    "\n",
    "\n",
    "Und hier noch die Überweisungsübersicht:\n",
    "\"\"\"\n",
    "    t_ovrvw = create_transfer_overview(erntejahr_2021.solawistas[df_row['num']]).to_string()\n",
    "            \n",
    "    \n",
    "    running_text = \"\".join([running_text,text_end,t_ovrvw])\n",
    "    \n",
    "    msg.set_content(running_text)\n",
    "\n",
    "    return msg"
   ]
  },
  {
   "cell_type": "code",
   "execution_count": null,
   "metadata": {},
   "outputs": [],
   "source": [
    "erntejahr_2021.solawistas[118]"
   ]
  },
  {
   "cell_type": "code",
   "execution_count": null,
   "metadata": {},
   "outputs": [],
   "source": [
    "for index, row in mail_df.iterrows():\n",
    "    if row['status'] == \"changed\":\n",
    "        print(\"id:{}, mail: {}\".format(row['num'], row['mail']))\n",
    "        print(create_message2(row))"
   ]
  },
  {
   "cell_type": "code",
   "execution_count": null,
   "metadata": {},
   "outputs": [],
   "source": [
    "special_ids = []\n",
    "for index, row in mail_df.iterrows():\n",
    "    if not (row['status'] == \"changed\" or row['status'] == \"no contact\"):\n",
    "        with smtplib.SMTP(HOST, 587) as smtp:\n",
    "            smtp.ehlo()\n",
    "            smtp.starttls()\n",
    "            smtp.ehlo()\n",
    "            smtp.login(MAIL_USERNAME, MAIL_PASSWORD)\n",
    "            \n",
    "            msg = create_message2(row)\n",
    "\n",
    "            smtp.send_message(msg)\n",
    "            print(\"Sent to {}\".format(row['mail']))\n",
    "    elif row['status'] == \"changed\":\n",
    "        special_ids.append(row[\"num\"])\n",
    "        print(\"Added {} to special ids.\".format(row[\"num\"]))"
   ]
  },
  {
   "cell_type": "code",
   "execution_count": null,
   "metadata": {},
   "outputs": [],
   "source": [
    "import pandas as pd\n",
    "for index, row in mail_df.iterrows(): \n",
    "    print()"
   ]
  },
  {
   "cell_type": "code",
   "execution_count": null,
   "metadata": {},
   "outputs": [],
   "source": [
    "erntejahr_2021.solawistas[82]"
   ]
  },
  {
   "cell_type": "markdown",
   "metadata": {},
   "source": [
    "4) Solawistas, die zu einem bestimmten Verteiler gehören"
   ]
  },
  {
   "cell_type": "code",
   "execution_count": null,
   "metadata": {},
   "outputs": [],
   "source": [
    "for idx,t in erntejahr_2021.all_transfers.items():\n",
    "    if t.sorted == \"t\":\n",
    "        print(t)"
   ]
  },
  {
   "cell_type": "code",
   "execution_count": null,
   "metadata": {},
   "outputs": [],
   "source": [
    "erntejahr_2021.warteschlange"
   ]
  },
  {
   "cell_type": "markdown",
   "metadata": {},
   "source": [
    "## 5. Emails verschicken\n",
    "\n",
    "Um Emails zu verschicken, benötigst du ein Email-Konto und folgende Informationen:\n",
    "\n"
   ]
  },
  {
   "cell_type": "code",
   "execution_count": null,
   "metadata": {},
   "outputs": [],
   "source": [
    "text = \"\"\"\n",
    "Hallo {},\n",
    "\n",
    "besser spät als nie ist die Jahresabrechnung fertig. Ich habe versucht alle Überweisungen, die im letzten Jahr über das Konto der Solawi geflossen sind, zu automat\n",
    "\"\"\""
   ]
  },
  {
   "cell_type": "code",
   "execution_count": null,
   "metadata": {},
   "outputs": [],
   "source": [
    "    text1=\"\"\n",
    "    text2=\"\"\n",
    "    text3=\"\"\n",
    "    text4=\"\"\n",
    "    \n",
    "    num = df_row['num']\n",
    "    if num < 10:\n",
    "        num = \"\".join([\"00\",str(num)])\n",
    "    elif num < 100:\n",
    "        num = \"\".join([\"0\",str(num)])\n",
    "    else:\n",
    "        num = str(num)\n",
    "        \n",
    "    if isinstance(df_row['amount'], float) or isinstance(df_row['amount'], int):\n",
    "        betrag = float(df_row['num_ant'])*df_row['amount']\n",
    "    else:\n",
    "        betrag = float(df_row['num_ant'])*float(df_row['amount'].replace(\",\",\".\")) \n",
    "        \n",
    "    \n",
    "    einlage_str = \"\".join([\"SOLAWI-EINLAGE/\",num,\"/\",df_row['nachname'].upper()])\n",
    "    vzweck_str = \"\".join([\"SOLAWI/\",num,\"/\",df_row['nachname'].upper()])\n",
    "    \n",
    "    if df_row['status'] != \"neu\":\n",
    "        msg['Subject'] = '[Solawi Grube] Erntejahr 2021/2022'\n",
    "        \n",
    "        text1 = \"\"\"\n",
    "        Leider brauche ich mit meiner Jahresabrechnung noch ein wenig Zeit, da ich ein paar Veränderungen in meinem Abrechnungsprogramm vornehmen muss, um am Jahresende allen Solawist:inenn personalisierte Finanzaufstellungen erstellen zu können.\n",
    "        Ich bin allerdings zuversichtlich, dass alles bis Weihnachten funktioniert und Du einen Überblick über Deine Zahlungen (egal, ob Monatsbeiträge oder Einlagen) bekommst.\n",
    "        \"\"\"\n",
    "        if df_row['status'] == \"verlängert\":\n",
    "            text2=\"\"\"\n",
    "            Falls Du bis dahin nicht warten willst, sondern direkt den Dauerauftrag für das kommende Erntejahr einrichten willst, kannst du das natürlich gerne machen.\n",
    "            Zur Erinnerung: mein Auswertungssytem kann Überweisungen mit einem bestimmten Verwendungszweck direkt auslesen und deinem Anteil zuordnen. Das erspart mir eine ganze Menge manuelles 'Gefriemel'.\n",
    "\n",
    "            Für Dich bleibt eigentlich alles beim Alten (nur der Betrag hat sich ggf. auf Grundlage deines Gebots geändert):\n",
    "            \n",
    "            Dein (moantlicher) Beitrag beträgt: {} €\n",
    "            \n",
    "            Die Überweisung geht an:\n",
    "            Kontoinhaber: Mathias Peeters\n",
    "            Bank: GLS Bank\n",
    "            IBAN: DE68 4306 0967 4022 6282 00\n",
    "            \n",
    "            Dein persönlicher Verwendungszweck: {}\n",
    "            \"\"\".format(betrag, vzweck_str)\n",
    "            \n",
    "            if df_row['Anteil Einlage'] < 250:\n",
    "                einlage_left = 250-float(df_row['Anteil Einlage'])\n",
    "                    \n",
    "                text3 = \"\"\"\n",
    "                Wie letztes Jahr angekündigt, wird dieses Jahr die Einlage in Höhe von 250 € verpflichtend.\n",
    "                Nach meinem aktuellen Stand hast Du bisher {} € eingezahlt.\n",
    "                Um also die restlichen {} € Einlage zu überweisen, kannst du diesen Verwendungszweck nutzen:\n",
    "                {}\n",
    "                So erkennt mein System auch automatisch den Eingang der Einlagenzahlung.\n",
    "                    \n",
    "                Falls du schon die Einlage bezahlt hast und das trotzdem siehst, würde ich dich bitten einfach noch ein paar Tage auf die ausführliche Aufstellung als Teil des Jahresberichts zu warten. Im besten Fall hat sich dann schon alles geklärt.\n",
    "                \"\"\".format(df_row['Anteil Einlage'],einlage_left,einlage_str)\n",
    "                \n",
    "            text4 = \"\"\"\n",
    "            Aber wie gesagt, alle diese Informationen (und noch viel mehr) gibt's zeitnah auch nochmal als Teil meiner Jahresabrechnung.\n",
    "            \n",
    "            Soo, ich hoffe das waren jetzt weder zu viele noch zu wenig Informationen.\"\"\"\n",
    "            \n",
    "        elif df_row['status'] == \"unbekannt\":\n",
    "            text2=\"\"\"\n",
    "            Leider habe ich keine Informationen darüber, ob du zum Jahresende aus der Solawi ausgetreten bist.\n",
    "            Falls nicht, melde dich bitte unter diesem Link https://www.soscisurvey.de/grube_2022/ nach (damit ich alle wichtigen Infos habe).\n",
    "            \n",
    "            Es gilt: Das Mindestgebot ist der Durchschnitt der diesjährigen Bieterrunde: 94 €.\n",
    "            \n",
    "            Sobald du dich nachgemeldet hast, kannst du den entsprechenden Betrag dann einfach an das alte Konto überweisen:\n",
    "            \n",
    "            Kontoinhaber: Mathias Peeters\n",
    "            Bank: GLS Bank\n",
    "            IBAN: DE68 4306 0967 4022 6282 00\n",
    "            \n",
    "            Dein persönlicher Verwendungszweck: {}\n",
    "            \n",
    "            Falls du doch schon gekündigt hast: schade. Aber natürlich auch voll in Ordnung :) Melde dich dann bitte einfach nochmal bei mir :) \n",
    "            \"\"\".format(vzweck_str)\n",
    "        else:\n",
    "            text2=\"\"\"\n",
    "            Ich habe auf jeden Fall deine Kündigung registriert. Die Jahresabrechnung für 2021 bekommst du trotzdem.\n",
    "            \"\"\"\n",
    "            \n",
    "            if df_row['Anteil Einlage'] > 0:\n",
    "                text3=\"\"\"\n",
    "                Aktuell habe ich {} € Einlage von dir registriert. Du erhälst sie Anfang nächsten Jahres zurück.\n",
    "                Aber wie gesagt, alle diese Informationen (und noch viel mehr) gibt's zeitnah auch nochmal als Teil meiner Jahresabrechnung.\n",
    "                \"\"\".format(df_row['Anteil Einlage'])\n",
    "                \n",
    "            text4=\"\"\"Soo, ich hoffe das waren jetzt weder zu viele noch zu wenig Informationen.\"\"\"\n",
    "            \n",
    "    else: \n",
    "        msg['Subject'] = \"[Solawi Grube] Erntejahr 2022 - Schatzmeister's Welcome!\"\n",
    "        \n",
    "        text1 = \"\"\"\n",
    "        Ich bin Lukas - der sog. 'Schatzmeister' der Solawi - schön, dass du mit dabei bist!\n",
    "        \n",
    "        Meine Aufgabe ist es, sicherzustellen, dass die Anteile auch bezahlt werden. Dazu habe ich eine kleine Software geschrieben, die die Überweisungen des Kontos auslesen kann. So muss ich nicht immer händisch nachgucken, ob jemand überwiesen hat, sondern kann das automatisch regeln.\n",
    "        Damit das funktioniert muss Deine Überweisung allerdings ein spezfisches Format haben, weshalb ich Dich bitten würde, den Verwendungszweck aus dieser Email eins zu eins zu übernehmen.\n",
    "        \n",
    "        Dein (moantlicher) Beitrag beträgt: {} €\n",
    "        \n",
    "        Die Überweisung sollte gehen an:\n",
    "        Kontoinhaber: Mathias Peeters\n",
    "        Bank: GLS Bank\n",
    "        IBAN: DE68 4306 0967 4022 6282 00\n",
    "            \n",
    "        Und Dein persönlicher Verwendungszweck ist: {}\n",
    "        \n",
    "        Bitte überweise den Betrag jeweils bis zum Monatssiebten. \n",
    "        \n",
    "        \n",
    "        \"\"\".format(betrag, vzweck_str)\n",
    "        \n",
    "        if df_row['Anteil Einlage'] < 250:\n",
    "                    text3 = \"\"\"\n",
    "                    Zusätztlich wird für alle neuen Mitglieder eine Einlage in Höhe von 250 € fällig (die bei Austritt wieder zurückgezahlt wird).\n",
    "                    Um die Einlage zu überweisen, kannst du diesen Verwendungszweck nutzen:\n",
    "                    {}\n",
    "                    So erkennt mein System auch automatisch den Eingang der Einlagenzahlung.\n",
    "                    \n",
    "                    Falls du schon die Einlage bezahlt hast und das trotzdem siehst, meld dich einfach kurz. Es kann gut sein, dass ich etwas übersehen hab.\n",
    "                    \"\"\".format(einlage_str)\n",
    "                \n",
    "        text4 = \"\"\"\n",
    "        Viel mehr hab ich eigentlich auch nicht zu sagen.\"\"\"\n",
    "            \n",
    "        \n",
    "\n",
    "    \n",
    "    \n",
    "\n",
    "    all_text = \"\".join([text_base,text1,text2,text3,text4,text_end])       \n"
   ]
  }
 ],
 "metadata": {
  "kernelspec": {
   "display_name": "Python 3",
   "language": "python",
   "name": "python3"
  },
  "language_info": {
   "codemirror_mode": {
    "name": "ipython",
    "version": 3
   },
   "file_extension": ".py",
   "mimetype": "text/x-python",
   "name": "python",
   "nbconvert_exporter": "python",
   "pygments_lexer": "ipython3",
   "version": "3.7.4"
  }
 },
 "nbformat": 4,
 "nbformat_minor": 2
}
